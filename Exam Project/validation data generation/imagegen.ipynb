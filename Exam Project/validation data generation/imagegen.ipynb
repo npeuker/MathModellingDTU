{
 "cells": [
  {
   "attachments": {},
   "cell_type": "markdown",
   "metadata": {},
   "source": [
    "### Code for testing the generation of realistic wood samples\n",
    "\n",
    "Consists of slightly altered code from: https://github.com/fgbossema/line_trajectory_simulations"
   ]
  },
  {
   "cell_type": "code",
   "execution_count": 39,
   "metadata": {},
   "outputs": [],
   "source": [
    "# imports\n",
    "import numpy as np\n",
    "from scipy.ndimage import gaussian_filter\n",
    "import matplotlib.pyplot as plt"
   ]
  },
  {
   "cell_type": "code",
   "execution_count": 40,
   "metadata": {},
   "outputs": [],
   "source": [
    "\n",
    "def phantom_plank(phantom_size, angle = 0, p = 1, v0 = None, ring_width = 1, y1 = 0.222, y2 = 0.422, gaussian_blurr = 0): \n",
    "    '''\n",
    "    Parameters\n",
    "    ----------\n",
    "    t : thickness of the plank (in mm)\n",
    "    w : width of the plank (in mm) \n",
    "    l : length of the plank (in mm)\n",
    "    vx_00 : x location of the left upper pixel relative to the pith (in mm)\n",
    "    vy_00 : y location of the left upper pixel relative to the pith (in mm)\n",
    "    vz_00 : z location of the left upper pixel relative to the pith (in mm)\n",
    "    To have pith in middle of phantom: \n",
    "        v00 = (-1/2*phantom_size[1], 1/2*phantom_size[0],1/2*phantom_size[2])\n",
    "    angle : tilt of the pith, in radians\n",
    "    p : pixel size. The default is 1.\n",
    "    y1 : lowest density value. The default is 0.222.\n",
    "    y2 : highest density value. The default is 0.422. \n",
    "    \n",
    "    Returns\n",
    "    -------\n",
    "    phantom : 3D plank phantom, with tree rings. \n",
    "\n",
    "    '''\n",
    "    #If there are no explicit numbers for a,b,c,d,e, but a period given,\n",
    "    #calculate the numbers a to e as ratio's of the period. \n",
    "    t, l, w = phantom_size\n",
    "    if v0 is not None: \n",
    "        vx_00, vy_00, vz_00 = v0\n",
    "    else: \n",
    "        #vx_00, vy_00, vz_00 = (-phantom_size[2],phantom_size[0]/2,0)\n",
    "        vx_00, vy_00, vz_00 = (-1/2*phantom_size[1], 1/2*phantom_size[0],1/2*phantom_size[2])\n",
    "    #period = np.ceil(ring_width/p)\n",
    "    period = ring_width\n",
    "    #period>0.5\n",
    "    a = 0\n",
    "    b = 0.2#4/10*period\n",
    "    c = 1/2*period\n",
    "    d = 1/2*period+0.2#(9/10)*period\n",
    "    e = period\n",
    "    \n",
    "    \n",
    "    \n",
    "    m = np.int(np.ceil(t/p))\n",
    "    n = np.int(np.ceil(w/p))\n",
    "    o = np.int(np.ceil(l/p))\n",
    "        \n",
    "    phantom = np.zeros((m,n,o), dtype = 'float32')\n",
    "    \n",
    "    #If the tree is straight, every layer is the same. \n",
    "    if angle == 0:\n",
    "        for i in range(m):\n",
    "            for j in range(n):\n",
    "                dist = distance_to_pith(i, j, 0, vx_00,vy_00, 0, 0, p)\n",
    "                value = truncated_triangle(dist, y1, y2, a, b, c, d, e)\n",
    "                phantom[i,j,:] = value\n",
    "    \n",
    "    #If the tree is at an angle, or the plank is cut at an angle, \n",
    "                #every layer is different. \n",
    "    else: \n",
    "        for i in range(m):\n",
    "                for j in range(n):\n",
    "                    for k in range(o):\n",
    "                        dist = distance_to_pith(i, j, k, vx_00, vy_00, vz_00, angle, p)\n",
    "                        value = truncated_triangle(dist, y1, y2, a, b, c, d, e)\n",
    "                        phantom[i,j,k] = value\n",
    "    \n",
    "    # plt.imshow(phantom[:,:,0])\n",
    "    # plt.title(\"First layer of generated phantom (Before adding G blur)\")\n",
    "    # plt.show()\n",
    "    if gaussian_blurr>0: \n",
    "        for i in np.arange(phantom.shape[2]):\n",
    "            phantom[:,:,i] = gaussian_filter(phantom[:,:,i],sigma = gaussian_blurr)\n",
    "    \n",
    "    return phantom\n",
    "\n",
    "def distance_to_pith(r, c, lr, vx_00, vy_00, vz_00, angle, p):\n",
    "    '''\n",
    "\n",
    "    Parameters\n",
    "    ----------\n",
    "    r : rownumber\n",
    "    c : columnnumber\n",
    "    lr: layernumber (slice in z-direction, which is along the tree)\n",
    "    vx_00 : x location of the left upper pixel relative to the pith in mm\n",
    "    vy_00 : y location of the left upper pixel relative to the pith in mm\n",
    "    vz_00 : z location of the left upper pixel relative to the pith in mm\n",
    "    p : pixel size, optional, The default is 1.\n",
    "    \n",
    "\n",
    "    Returns\n",
    "    -------\n",
    "    distance from pith of tree to pixel\n",
    "\n",
    "    '''\n",
    "    vx = vx_00 + p*c\n",
    "    vy = vy_00 - p*r\n",
    "    vz = vz_00 - p*lr\n",
    "    \n",
    "    return np.sqrt(vx**2 + vy**2) + vz * np.arcsin(angle) \n",
    "\n",
    "def truncated_triangle(l, y1, y2, a, b, c, d, e):\n",
    "    '''\n",
    "    Parameters\n",
    "    ----------\n",
    "    l : distance to pith of tree \n",
    "    y1 : lowest function value\n",
    "    y2 : highest function value\n",
    "    a : start of period including two tree rings, one year: \n",
    "        a denser ring and a less dense ring, start of increasing slope\n",
    "    b : stop of the increasing slope\n",
    "    c : start of the decreasing slope\n",
    "    d : stop of the decreasing slope\n",
    "    e : end of period\n",
    "\n",
    "    Returns\n",
    "    -------\n",
    "    Value for the pixel in the tree phantom, based on a truncated triangle \n",
    "    function. \n",
    "\n",
    "    '''\n",
    "    l_mod = np.mod(l,e-a)\n",
    "    \n",
    "    if a <= l_mod  < b: \n",
    "        return np.abs((y2-y1)/(b-a)*(l_mod-a)+y1)\n",
    "    elif b <= l_mod < c:\n",
    "        return y2\n",
    "    elif c <= l_mod < d:\n",
    "        return np.abs(-(y2-y1)/(d-c)*(l_mod-c)+y2)\n",
    "    elif d <= l_mod < e:\n",
    "        return y1"
   ]
  },
  {
   "attachments": {},
   "cell_type": "markdown",
   "metadata": {},
   "source": [
    "### Phantom plank:\n",
    "------------------\n",
    "- **phantom_size**: Triple of (thickness, length, width) of wood sample (mm).\n",
    "- **v0 = vx_00, vy_00, vz_00**: Locations of furthest away pixels from [pith](https://woodcarvingillustrated.com/blog/2017/09/18/anatomy-of-wood/#:~:text=Pith%3A%20At%20the%20very%20center,wood%20that%20include%20the%20pith.).\n",
    "    - - Default values: (-phantom_size[2],phantom_size[0]/2,0)\n",
    "- **angle**: Tilt of *pith*.\n",
    "- **p**: Pixel size (default=1)\n",
    "- **y1, y2**: Lowest and highest values of attenuation coefficient respectively.\n",
    "- **ring_width**: The width of concentric tree rings (assuming this is measured in pixels?) default is 1.\n",
    "- **gaussian_blur**: *blurs* image. default is 0."
   ]
  },
  {
   "attachments": {},
   "cell_type": "markdown",
   "metadata": {},
   "source": [
    "#### Determination of parameter values\n",
    "----------------------\n",
    "- **phantom_size**:\n",
    "    - Test data given is 5000x5000 pixels, with each pixel representing 1mm (image is 500mmx500mm). Thickness is somewhat arbitrary. will set parameter as (100, 500, 500) for now.\n",
    "- **vx_00, vy_00, vz_00**:\n",
    "    - We want pith in the centre, as we will be examining the entire cross-section: (1/2 length, 1/2 thickness, 1/2 width)\n",
    "- **angle**: \n",
    "    - Assume that log will be perfectly centred for now: 0 rad. (default)\n",
    "- **y1, y2**: Highest and lowest attenuation coefficients for wood (will just work with 0.222 and 0.422 for now)\n",
    "\n",
    "rest default."
   ]
  },
  {
   "attachments": {},
   "cell_type": "markdown",
   "metadata": {},
   "source": [
    "Testing below. Very confused."
   ]
  },
  {
   "cell_type": "code",
   "execution_count": 63,
   "metadata": {},
   "outputs": [
    {
     "name": "stderr",
     "output_type": "stream",
     "text": [
      "C:\\Users\\miles\\AppData\\Roaming\\Python\\Python37\\site-packages\\ipykernel_launcher.py:42: DeprecationWarning: `np.int` is a deprecated alias for the builtin `int`. To silence this warning, use `int` by itself. Doing this will not modify any behavior and is safe. When replacing `np.int`, you may wish to use e.g. `np.int64` or `np.int32` to specify the precision. If you wish to review your current use, check the release note link for additional information.\n",
      "Deprecated in NumPy 1.20; for more details and guidance: https://numpy.org/devdocs/release/1.20.0-notes.html#deprecations\n",
      "C:\\Users\\miles\\AppData\\Roaming\\Python\\Python37\\site-packages\\ipykernel_launcher.py:43: DeprecationWarning: `np.int` is a deprecated alias for the builtin `int`. To silence this warning, use `int` by itself. Doing this will not modify any behavior and is safe. When replacing `np.int`, you may wish to use e.g. `np.int64` or `np.int32` to specify the precision. If you wish to review your current use, check the release note link for additional information.\n",
      "Deprecated in NumPy 1.20; for more details and guidance: https://numpy.org/devdocs/release/1.20.0-notes.html#deprecations\n",
      "C:\\Users\\miles\\AppData\\Roaming\\Python\\Python37\\site-packages\\ipykernel_launcher.py:44: DeprecationWarning: `np.int` is a deprecated alias for the builtin `int`. To silence this warning, use `int` by itself. Doing this will not modify any behavior and is safe. When replacing `np.int`, you may wish to use e.g. `np.int64` or `np.int32` to specify the precision. If you wish to review your current use, check the release note link for additional information.\n",
      "Deprecated in NumPy 1.20; for more details and guidance: https://numpy.org/devdocs/release/1.20.0-notes.html#deprecations\n"
     ]
    },
    {
     "name": "stdout",
     "output_type": "stream",
     "text": [
      "Shape of Phantom data: (100, 500, 500)\n"
     ]
    }
   ],
   "source": [
    "# Parameters\n",
    "phantom_size = (10, 50, 50) # t, l, w\n",
    "v0 = ((-1/2)*phantom_size[1], (1/2)*phantom_size[0],(1/2)*phantom_size[2])\n",
    "ring_width = 1.0\n",
    "angle = np.deg2rad(0.0)\n",
    "pix_size = 0.1\n",
    "blur = 0\n",
    "\n",
    "P = phantom_plank(phantom_size, angle = angle, p = pix_size, ring_width = ring_width, gaussian_blurr=blur).transpose([0,2,1])\n",
    "# Unsure as to why the phantom has to be transposed? \n",
    "# Phantom has essentially been rotated 90 degrees (clockwise?)\n",
    "print(f\"Shape of Phantom data: {P.shape}\")"
   ]
  },
  {
   "attachments": {},
   "cell_type": "markdown",
   "metadata": {},
   "source": [
    "Comparing below image shape with shape above.\n",
    "\n",
    "If the phantom_shape parameter and pixel size parameter are related in the way I think, the two images should be identical."
   ]
  },
  {
   "cell_type": "code",
   "execution_count": 64,
   "metadata": {},
   "outputs": [
    {
     "name": "stderr",
     "output_type": "stream",
     "text": [
      "C:\\Users\\miles\\AppData\\Roaming\\Python\\Python37\\site-packages\\ipykernel_launcher.py:42: DeprecationWarning: `np.int` is a deprecated alias for the builtin `int`. To silence this warning, use `int` by itself. Doing this will not modify any behavior and is safe. When replacing `np.int`, you may wish to use e.g. `np.int64` or `np.int32` to specify the precision. If you wish to review your current use, check the release note link for additional information.\n",
      "Deprecated in NumPy 1.20; for more details and guidance: https://numpy.org/devdocs/release/1.20.0-notes.html#deprecations\n",
      "C:\\Users\\miles\\AppData\\Roaming\\Python\\Python37\\site-packages\\ipykernel_launcher.py:43: DeprecationWarning: `np.int` is a deprecated alias for the builtin `int`. To silence this warning, use `int` by itself. Doing this will not modify any behavior and is safe. When replacing `np.int`, you may wish to use e.g. `np.int64` or `np.int32` to specify the precision. If you wish to review your current use, check the release note link for additional information.\n",
      "Deprecated in NumPy 1.20; for more details and guidance: https://numpy.org/devdocs/release/1.20.0-notes.html#deprecations\n",
      "C:\\Users\\miles\\AppData\\Roaming\\Python\\Python37\\site-packages\\ipykernel_launcher.py:44: DeprecationWarning: `np.int` is a deprecated alias for the builtin `int`. To silence this warning, use `int` by itself. Doing this will not modify any behavior and is safe. When replacing `np.int`, you may wish to use e.g. `np.int64` or `np.int32` to specify the precision. If you wish to review your current use, check the release note link for additional information.\n",
      "Deprecated in NumPy 1.20; for more details and guidance: https://numpy.org/devdocs/release/1.20.0-notes.html#deprecations\n"
     ]
    },
    {
     "name": "stdout",
     "output_type": "stream",
     "text": [
      "Shape of Phantom data: (100, 500, 500)\n"
     ]
    }
   ],
   "source": [
    "phantom_size2 = (100, 500, 500) # t, l, w\n",
    "v02 = ((-1/2)*phantom_size2[1], (1/2)*phantom_size2[0],(1/2)*phantom_size2[2])\n",
    "ring_width2 = 1.0\n",
    "angle2 = np.deg2rad(0.0)\n",
    "pix_size2 = 1\n",
    "blur2 = 0\n",
    "\n",
    "P2 = phantom_plank(phantom_size2, angle = angle2, p = pix_size2, ring_width = ring_width2, gaussian_blurr=blur2).transpose([0,2,1])\n",
    "# Unsure as to why the phantom has to be transposed? \n",
    "# Phantom has essentially been rotated 90 degrees (clockwise?)\n",
    "print(f\"Shape of Phantom data: {P.shape}\")"
   ]
  },
  {
   "attachments": {},
   "cell_type": "markdown",
   "metadata": {},
   "source": [
    "Comparing the two images (first slices)"
   ]
  },
  {
   "cell_type": "code",
   "execution_count": 65,
   "metadata": {},
   "outputs": [
    {
     "data": {
      "image/png": "[encoded data removed]",
      "text/plain": [
       "<Figure size 640x480 with 1 Axes>"
      ]
     },
     "metadata": {},
     "output_type": "display_data"
    },
    {
     "data": {
      "image/png": "[encoded data removed]",
      "text/plain": [
       "<Figure size 640x480 with 1 Axes>"
      ]
     },
     "metadata": {},
     "output_type": "display_data"
    }
   ],
   "source": [
    "plt.imshow(P[0, :, :])\n",
    "plt.title(f\"pix size={pix_size}, phantom_size={phantom_size}\")\n",
    "plt.show()\n",
    "\n",
    "plt.imshow(P2[0, :, :])\n",
    "plt.title(f\"pix_size={pix_size2}, phantom_size={phantom_size2}\")\n",
    "plt.show()\n"
   ]
  },
  {
   "attachments": {},
   "cell_type": "markdown",
   "metadata": {},
   "source": [
    "Attempting to recreate what was generated using test.py"
   ]
  },
  {
   "cell_type": "code",
   "execution_count": null,
   "metadata": {},
   "outputs": [],
   "source": [
    "ringwidths = np.array([1.0])\n",
    "angles = np.array([0])\n",
    "pix_size = 0.05\n",
    "phantom_size = (30,30,30)\n",
    "P = phantom_plank(phantom_size, angle = np.deg2rad(i), p = pix_size, ring_width = ring_width, gaussian_blurr=blur).transpose([0,2,1])"
   ]
  }
 ],
 "metadata": {
  "kernelspec": {
   "display_name": "base",
   "language": "python",
   "name": "python3"
  },
  "language_info": {
   "codemirror_mode": {
    "name": "ipython",
    "version": 3
   },
   "file_extension": ".py",
   "mimetype": "text/x-python",
   "name": "python",
   "nbconvert_exporter": "python",
   "pygments_lexer": "ipython3",
   "version": "3.7.10"
  },
  "orig_nbformat": 4
 },
 "nbformat": 4,
 "nbformat_minor": 2
}
