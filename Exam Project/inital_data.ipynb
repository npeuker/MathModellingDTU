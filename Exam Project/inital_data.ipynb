{
 "cells": [
  {
   "cell_type": "code",
   "execution_count": 2,
   "metadata": {},
   "outputs": [
    {
     "name": "stderr",
     "output_type": "stream",
     "text": [
      "/Users/karlfindhansen/Documents/GitHub/MathModellingDTU/Exam Project/paralleltomo.py:102: RuntimeWarning: divide by zero encountered in true_divide\n",
      "  tx = (x - x0theta[j,0])/a\n"
     ]
    }
   ],
   "source": [
    "import numpy as np\n",
    "from scipy.sparse import csr_matrix\n",
    "from paralleltomo import paralleltomo\n",
    "from PIL import Image\n",
    "import matplotlib.pyplot as plt\n",
    "import math"
   ]
  },
  {
   "cell_type": "code",
   "execution_count": 3,
   "metadata": {},
   "outputs": [],
   "source": [
    "path = \"/Users/karlfindhansen/Desktop/MathModellingDTU/Exam Project/testImage.npy\""
   ]
  },
  {
   "cell_type": "code",
   "execution_count": 4,
   "metadata": {},
   "outputs": [
    {
     "name": "stdout",
     "output_type": "stream",
     "text": [
      "(5000, 5000)\n"
     ]
    },
    {
     "data": {
      "image/png": "[encoded data removed]",
      "text/plain": [
       "<Figure size 432x288 with 1 Axes>"
      ]
     },
     "metadata": {
      "needs_background": "light"
     },
     "output_type": "display_data"
    }
   ],
   "source": [
    "im = np.load(path)\n",
    "print(im.shape)\n",
    "\n",
    "plt.imshow(im)\n",
    "plt.show()"
   ]
  },
  {
   "cell_type": "code",
   "execution_count": 5,
   "metadata": {},
   "outputs": [
    {
     "name": "stdout",
     "output_type": "stream",
     "text": [
      "A = [[0.         0.         0.         ... 0.         0.         0.        ]\n",
      " [0.         0.         0.         ... 0.         0.         0.        ]\n",
      " [0.         0.         0.         ... 0.         0.         0.        ]\n",
      " ...\n",
      " [0.         0.         0.         ... 1.13137085 0.         0.        ]\n",
      " [0.         0.         0.         ... 0.         0.84852814 0.56568542]\n",
      " [0.         0.         0.         ... 0.         0.         0.        ]]\n",
      "63 143\n",
      "\n"
     ]
    },
    {
     "name": "stderr",
     "output_type": "stream",
     "text": [
      "/Users/karlfindhansen/Documents/GitHub/MathModellingDTU/Exam Project/paralleltomo.py:102: RuntimeWarning: divide by zero encountered in true_divide\n",
      "  tx = (x - x0theta[j,0])/a\n"
     ]
    },
    {
     "name": "stdout",
     "output_type": "stream",
     "text": [
      "A = [[0. 0. 0. ... 0. 0. 0.]\n",
      " [0. 0. 0. ... 0. 0. 0.]\n",
      " [0. 0. 0. ... 0. 0. 0.]\n",
      " ...\n",
      " [0. 0. 0. ... 0. 0. 0.]\n",
      " [0. 0. 0. ... 0. 0. 0.]\n",
      " [0. 0. 0. ... 0. 0. 0.]]\n"
     ]
    }
   ],
   "source": [
    "N=8\n",
    "theta = np.matrix([45.0000,   67.5000,   90.0000,  112.5000,  135.0000,  157.5000,  180.0000,  202.5000,  225.0000,  247.5000,  270.0000, 292.5000,  315.0000])\n",
    "[A,theta,p,d] = paralleltomo(N,theta,11)\n",
    "\n",
    "# print([A,theta,p,d])\n",
    "print(f\"A = {A}\")\n",
    "print(np.linalg.matrix_rank(A),A.shape[0])\n",
    "print()\n",
    "\n",
    "N=200\n",
    "theta =np.matrix(np.linspace(0,179,179))\n",
    "p = 250\n",
    "[A,theta,p,d] = paralleltomo(N,theta,p)\n",
    "print(f\"A = {A}\")\n",
    "# print([A,theta,p,d])"
   ]
  },
  {
   "attachments": {},
   "cell_type": "markdown",
   "metadata": {},
   "source": [
    "# Problem 1"
   ]
  },
  {
   "cell_type": "code",
   "execution_count": 6,
   "metadata": {},
   "outputs": [
    {
     "data": {
      "image/png": "[encoded data removed]",
      "text/plain": [
       "<Figure size 432x288 with 1 Axes>"
      ]
     },
     "metadata": {
      "needs_background": "light"
     },
     "output_type": "display_data"
    }
   ],
   "source": [
    "# make the resolution of im to 50 x 50\n",
    "resized_im = im[::100,::100]\n",
    "plt.imshow(resized_im)  \n",
    "plt.show()\n",
    "\n",
    "#save resized im\n",
    "np.save('resized_im', resized_im)"
   ]
  },
  {
   "cell_type": "code",
   "execution_count": 7,
   "metadata": {},
   "outputs": [
    {
     "name": "stdout",
     "output_type": "stream",
     "text": [
      "2500 (8950, 2500)\n",
      "A = [[0. 0. 0. ... 0. 0. 0.]\n",
      " [0. 0. 0. ... 0. 0. 0.]\n",
      " [0. 0. 0. ... 0. 0. 0.]\n",
      " ...\n",
      " [0. 0. 0. ... 0. 0. 0.]\n",
      " [0. 0. 0. ... 0. 0. 0.]\n",
      " [0. 0. 0. ... 0. 0. 0.]]\n"
     ]
    }
   ],
   "source": [
    "# calculating the A matrix\n",
    "N = 50\n",
    "p = 50\n",
    "theta = np.matrix(np.linspace(0,179,179))\n",
    "[A,theta,p,d] = paralleltomo(N, theta, p)\n",
    "print(np.linalg.matrix_rank(A),A.shape)\n",
    "\n",
    "print(f\"A = {A}\")"
   ]
  },
  {
   "attachments": {},
   "cell_type": "markdown",
   "metadata": {},
   "source": [
    "# Simulating forward projection"
   ]
  },
  {
   "cell_type": "code",
   "execution_count": 8,
   "metadata": {},
   "outputs": [
    {
     "name": "stderr",
     "output_type": "stream",
     "text": [
      "/var/folders/r2/gzlv5h7s47398gkvjzzqmmfr0000gn/T/ipykernel_9591/2641152074.py:8: FutureWarning: `rcond` parameter will change to the default of machine precision times ``max(M, N)`` where M and N are the input matrix dimensions.\n",
      "To use the future default and silence this warning we advise to pass `rcond=None`, to keep using the old, explicitly pass `rcond=-1`.\n",
      "  x_no_Noise = np.linalg.lstsq(A, b)[0]\n",
      "/var/folders/r2/gzlv5h7s47398gkvjzzqmmfr0000gn/T/ipykernel_9591/2641152074.py:22: FutureWarning: `rcond` parameter will change to the default of machine precision times ``max(M, N)`` where M and N are the input matrix dimensions.\n",
      "To use the future default and silence this warning we advise to pass `rcond=None`, to keep using the old, explicitly pass `rcond=-1`.\n",
      "  x_noisy = np.linalg.lstsq(A, noisy_b)[0]\n"
     ]
    }
   ],
   "source": [
    "def calculatingB(A, resized_im):\n",
    "    x = np.ravel(resized_im)\n",
    "    b = np.matmul(A,x)\n",
    "    return b\n",
    "\n",
    "b = calculatingB(A, resized_im)\n",
    "# x with no noise\n",
    "x_no_Noise = np.linalg.lstsq(A, b)[0]\n",
    "resized_no_noise_im = np.resize(x_no_Noise, (50,50))\n",
    "np.save(\"x_no_noise.npy\", resized_no_noise_im)\n",
    "\n",
    "# adding noise from mean and stanard deviation\n",
    "def addNoise(b):\n",
    "    mean = np.mean(b)\n",
    "    std = np.std(b)\n",
    "    noise = np.random.normal(mean, std, b.shape)\n",
    "    noisy_b = b + noise\n",
    "    return noisy_b\n",
    "\n",
    "noisy_b = addNoise(b)\n",
    "x_noisy = np.linalg.lstsq(A, noisy_b)[0]\n",
    "resized_noise_im = np.resize(x_noisy, (50,50))\n",
    "np.save(\"x_with_noise.npy\", resized_noise_im)\n",
    "\n"
   ]
  },
  {
   "attachments": {},
   "cell_type": "markdown",
   "metadata": {},
   "source": [
    "# Comparing images"
   ]
  },
  {
   "cell_type": "code",
   "execution_count": 9,
   "metadata": {},
   "outputs": [
    {
     "data": {
      "image/png": "[encoded data removed]",
      "text/plain": [
       "<Figure size 1224x1224 with 4 Axes>"
      ]
     },
     "metadata": {
      "needs_background": "light"
     },
     "output_type": "display_data"
    }
   ],
   "source": [
    "# make a subplot of the three images\n",
    "\n",
    "original_image = np.load(\"testImage.npy\")\n",
    "resized_im = np.load(\"resized_im.npy\")\n",
    "x_no_Noise = np.load(\"x_no_noise.npy\")\n",
    "x_noisy = np.load(\"x_with_noise.npy\")\n",
    "\n",
    "# make subplot of the 4 images\n",
    "def subplot(original_image, resized_im, x_no_Noise, x_noisy):\n",
    "    fig, axs = plt.subplots(1, 4, figsize=(17, 17))\n",
    "    axs[0].imshow(original_image)\n",
    "    axs[0].set_title(\"Original Image\")\n",
    "    axs[1].imshow(resized_im)\n",
    "    axs[1].set_title(\"Resized image\")\n",
    "    axs[2].imshow(x_no_Noise)\n",
    "    axs[2].set_title(\"Recreated image (using b without noise)\")\n",
    "    axs[3].imshow(x_noisy)\n",
    "    axs[3].set_title(\"Recreated image (using b with noise)\")\n",
    "    plt.show()\n",
    "\n",
    "\n",
    "subplot(original_image, resized_im, x_no_Noise, x_noisy)"
   ]
  },
  {
   "attachments": {},
   "cell_type": "markdown",
   "metadata": {},
   "source": [
    "# Energies and Resolution\n",
    "Here it is investegated what x-ray energy is best for the system?\n",
    "\n",
    "The attenuation of a material is the the measurement of energy absorbed and deflected as it passes through a medium. \n",
    "\n",
    "## This part is not done yet"
   ]
  },
  {
   "cell_type": "code",
   "execution_count": 79,
   "metadata": {},
   "outputs": [
    {
     "name": "stdout",
     "output_type": "stream",
     "text": [
      "Attenation steel = 0.05397851616202787\n",
      "Attenation lead = 0.0037101005066195736\n",
      "Attenation wood = 0.0008496388523324683\n"
     ]
    }
   ],
   "source": [
    "log_size = 0.5 # m\n",
    "\n",
    "thinkness = N/log_size #m\n",
    "\n",
    "I0 = [i for i in range(10,210,10)] # keV\n",
    "\n",
    "x = np.ravel(resized_im) # attenuation coefficients\n",
    "\n",
    "# plt.plot([i for i in range(len(x))], x)\n",
    "attenuation_steel = max(x) # max value of the attenuation coefficient\n",
    "# second max value\n",
    "attenuation_lead = max([i for i in x if i != attenuation_steel])\n",
    "# attenuation wood within the range of a standard deviation of the mean\n",
    "attenuation_wood = np.mean([i for i in x if (i < np.mean(x)+2*np.std(x) and i > 0)])\n",
    "\n",
    "print(f'Attenation steel = {attenuation_steel}')\n",
    "print(f'Attenation lead = {attenuation_lead}')\n",
    "print(f'Attenation wood = {attenuation_wood}')\n",
    "\n",
    "# sort out the energy values for lead and bismuth\n",
    "\n",
    "thickness = [thinkness for _ in range(len(x))] # thickness of the material\n",
    "\n",
    "def calculate_energy(I0, x, l): #this function estimates the x-ray intensity for all different energies\n",
    "    s = 0\n",
    "    I = []\n",
    "    for j in range(len(x)):\n",
    "        s += x[j]*l[j]\n",
    "    for i in range(len(I0)):\n",
    "        I.append(I0[i] * np.exp(-s))\n",
    "    return I\n",
    "\n",
    "I = calculate_energy(I0, x, thickness)\n",
    "\n",
    "# plt.plot(I0, I)\n",
    "# plt.title(\"Intensity of the x-rays\")\n",
    "# plt.xlabel(\"Energy [keV]\")\n",
    "# plt.ylabel(\"Intensity [keV]\")\n",
    "# plt.show()\n",
    "\n",
    "# def calculate_attenuation_coefficients(I0, x, thickness): # this function calculates the attenuation coefficients aka b\n",
    "#     I = calculate_energy(I0, x, thickness)\n",
    "#     b = []\n",
    "#     for i in range(len(I0)):\n",
    "#         b.append(np.log(I0[i]/I[i]))\n",
    "#     return b\n",
    "\n",
    "# b = calculate_attenuation_coefficients(I0, x, thickness)\n",
    "# check if the b values are identical\n",
    "\n",
    "# print(energy_lead)\n",
    "# print(energy_bismuth)\n",
    "    \n",
    "\n",
    "    "
   ]
  },
  {
   "attachments": {},
   "cell_type": "markdown",
   "metadata": {},
   "source": [
    "# Part 2"
   ]
  },
  {
   "cell_type": "code",
   "execution_count": null,
   "metadata": {},
   "outputs": [],
   "source": []
  }
 ],
 "metadata": {
  "kernelspec": {
   "display_name": "base",
   "language": "python",
   "name": "python3"
  },
  "language_info": {
   "codemirror_mode": {
    "name": "ipython",
    "version": 3
   },
   "file_extension": ".py",
   "mimetype": "text/x-python",
   "name": "python",
   "nbconvert_exporter": "python",
   "pygments_lexer": "ipython3",
   "version": "3.8.3"
  },
  "orig_nbformat": 4,
  "vscode": {
   "interpreter": {
    "hash": "40d3a090f54c6569ab1632332b64b2c03c39dcf918b08424e98f38b5ae0af88f"
   }
  }
 },
 "nbformat": 4,
 "nbformat_minor": 2
}
