{
 "cells": [
  {
   "cell_type": "code",
   "execution_count": null,
   "metadata": {},
   "outputs": [],
   "source": [
    "import numpy as np\n",
    "from scipy.sparse import csr_matrix\n",
    "from paralleltomo import paralleltomo\n",
    "from PIL import Image\n",
    "import matplotlib.pyplot as plt\n",
    "import math"
   ]
  },
  {
   "cell_type": "code",
   "execution_count": null,
   "metadata": {},
   "outputs": [],
   "source": [
    "path = \"/Users/karlfindhansen/Desktop/MathModellingDTU/Exam Project/testImage.npy\""
   ]
  },
  {
   "cell_type": "code",
   "execution_count": null,
   "metadata": {},
   "outputs": [],
   "source": [
    "im = np.load(path)\n",
    "print(im.shape)\n",
    "\n",
    "plt.imshow(im)\n",
    "plt.show()"
   ]
  },
  {
   "cell_type": "code",
   "execution_count": null,
   "metadata": {},
   "outputs": [],
   "source": [
    "N=8\n",
    "theta = np.matrix([45.0000,   67.5000,   90.0000,  112.5000,  135.0000,  157.5000,  180.0000,  202.5000,  225.0000,  247.5000,  270.0000, 292.5000,  315.0000])\n",
    "[A,theta,p,d] = paralleltomo(N,theta,11)\n",
    "\n",
    "# print([A,theta,p,d])\n",
    "print(f\"A = {A}\")\n",
    "print(np.linalg.matrix_rank(A),A.shape[0])\n",
    "print()\n",
    "\n",
    "N=200\n",
    "theta =np.matrix(np.linspace(0,179,179))\n",
    "p = 250\n",
    "[A,theta,p,d] = paralleltomo(N,theta,p)\n",
    "print(f\"A = {A}\")\n",
    "# print([A,theta,p,d])"
   ]
  },
  {
   "attachments": {},
   "cell_type": "markdown",
   "metadata": {},
   "source": [
    "# Problem 1"
   ]
  },
  {
   "cell_type": "code",
   "execution_count": null,
   "metadata": {},
   "outputs": [],
   "source": [
    "# make the resolution of im to 50 x 50\n",
    "resized_im = im[::100,::100]\n",
    "plt.imshow(resized_im)  \n",
    "plt.show()\n",
    "\n",
    "#save resized im\n",
    "np.save('resized_im', resized_im)"
   ]
  },
  {
   "cell_type": "code",
   "execution_count": null,
   "metadata": {},
   "outputs": [],
   "source": [
    "# calculating the A matrix\n",
    "N = 50\n",
    "p = 50\n",
    "theta = np.matrix(np.linspace(0,179,179))\n",
    "[A,theta,p,d] = paralleltomo(N, theta, p)\n",
    "print(np.linalg.matrix_rank(A),A.shape)\n",
    "\n",
    "print(f\"A = {A}\")"
   ]
  },
  {
   "attachments": {},
   "cell_type": "markdown",
   "metadata": {},
   "source": [
    "# Simulating forward projection"
   ]
  },
  {
   "cell_type": "code",
   "execution_count": null,
   "metadata": {},
   "outputs": [],
   "source": [
    "def calculatingB(A, resized_im):\n",
    "    x = np.ravel(resized_im)\n",
    "    b = np.matmul(A,x)\n",
    "    return b\n",
    "\n",
    "b = calculatingB(A, resized_im)\n",
    "# x with no noise\n",
    "x_no_Noise = np.linalg.lstsq(A, b)[0]\n",
    "resized_no_noise_im = np.resize(x_no_Noise, (50,50))\n",
    "np.save(\"x_no_noise.npy\", resized_no_noise_im)\n",
    "\n",
    "# adding noise from mean and stanard deviation\n",
    "def addNoise(b):\n",
    "    mean = np.mean(b)\n",
    "    std = np.std(b)\n",
    "    noise = np.random.normal(mean, std, b.shape)\n",
    "    noisy_b = b + noise\n",
    "    return noisy_b\n",
    "\n",
    "noisy_b = addNoise(b)\n",
    "x_noisy = np.linalg.lstsq(A, noisy_b)[0]\n",
    "resized_noise_im = np.resize(x_noisy, (50,50))\n",
    "np.save(\"x_with_noise.npy\", resized_noise_im)\n",
    "\n"
   ]
  },
  {
   "attachments": {},
   "cell_type": "markdown",
   "metadata": {},
   "source": [
    "# Comparing images"
   ]
  },
  {
   "cell_type": "code",
   "execution_count": null,
   "metadata": {},
   "outputs": [],
   "source": [
    "# make a subplot of the three images\n",
    "\n",
    "original_image = np.load(\"testImage.npy\")\n",
    "resized_im = np.load(\"resized_im.npy\")\n",
    "x_no_Noise = np.load(\"x_no_noise.npy\")\n",
    "x_noisy = np.load(\"x_with_noise.npy\")\n",
    "\n",
    "# make subplot of the 4 images\n",
    "def subplot(original_image, resized_im, x_no_Noise, x_noisy):\n",
    "    fig, axs = plt.subplots(1, 4, figsize=(17, 17))\n",
    "    axs[0].imshow(original_image)\n",
    "    axs[0].set_title(\"Original Image\")\n",
    "    axs[1].imshow(resized_im)\n",
    "    axs[1].set_title(\"Resized image\")\n",
    "    axs[2].imshow(x_no_Noise)\n",
    "    axs[2].set_title(\"Recreated image (using b without noise)\")\n",
    "    axs[3].imshow(x_noisy)\n",
    "    axs[3].set_title(\"Recreated image (using b with noise)\")\n",
    "    plt.show()\n",
    "\n",
    "\n",
    "subplot(original_image, resized_im, x_no_Noise, x_noisy)"
   ]
  },
  {
   "attachments": {},
   "cell_type": "markdown",
   "metadata": {},
   "source": [
    "# Energies and Resolution\n",
    "Here it is investegated what x-ray energy is best for the system?\n",
    "\n",
    "The attenuation of a material is the the measurement of energy absorbed and deflected as it passes through a medium. \n",
    "\n",
    "## This part is not done yet"
   ]
  },
  {
   "cell_type": "code",
   "execution_count": null,
   "metadata": {},
   "outputs": [],
   "source": [
    "log_size = 0.5 # m\n",
    "\n",
    "thinkness = N/log_size #m\n",
    "\n",
    "I0 = [i for i in range(10,210,10)] # keV\n",
    "\n",
    "x = np.ravel(resized_im) # attenuation coefficients\n",
    "\n",
    "# plt.plot([i for i in range(len(x))], x)\n",
    "attenuation_steel = max(x) # max value of the attenuation coefficient\n",
    "# second max value\n",
    "attenuation_lead = max([i for i in x if i != attenuation_steel])\n",
    "# attenuation wood within the range of a standard deviation of the mean\n",
    "attenuation_wood = np.mean([i for i in x if (i < np.mean(x)+2*np.std(x) and i > 0)])\n",
    "\n",
    "print(f'Attenation steel = {attenuation_steel}')\n",
    "print(f'Attenation lead = {attenuation_lead}')\n",
    "print(f'Attenation wood = {attenuation_wood}')\n",
    "\n",
    "# sort out the energy values for lead and bismuth\n",
    "\n",
    "thickness = [thinkness for _ in range(len(x))] # thickness of the material\n",
    "\n",
    "def calculate_energy(I0, x, l): #this function estimates the x-ray intensity for all different energies\n",
    "    s = 0\n",
    "    I = []\n",
    "    for j in range(len(x)):\n",
    "        s += x[j]*l[j]\n",
    "    for i in range(len(I0)):\n",
    "        I.append(I0[i] * np.exp(-s))\n",
    "    return I\n",
    "\n",
    "I = calculate_energy(I0, x, thickness)\n",
    "\n",
    "# plt.plot(I0, I)\n",
    "# plt.title(\"Intensity of the x-rays\")\n",
    "# plt.xlabel(\"Energy [keV]\")\n",
    "# plt.ylabel(\"Intensity [keV]\")\n",
    "# plt.show()\n",
    "\n",
    "# def calculate_attenuation_coefficients(I0, x, thickness): # this function calculates the attenuation coefficients aka b\n",
    "#     I = calculate_energy(I0, x, thickness)\n",
    "#     b = []\n",
    "#     for i in range(len(I0)):\n",
    "#         b.append(np.log(I0[i]/I[i]))\n",
    "#     return b\n",
    "\n",
    "# b = calculate_attenuation_coefficients(I0, x, thickness)\n",
    "# check if the b values are identical\n",
    "\n",
    "# print(energy_lead)\n",
    "# print(energy_bismuth)\n",
    "    \n",
    "\n",
    "    "
   ]
  },
  {
   "cell_type": "code",
   "execution_count": null,
   "metadata": {},
   "outputs": [],
   "source": [
    "C, H, O = [], [], []\n",
    "photon_energy = []\n",
    "\n",
    "filenames = [\"carbon.txt\", \"hydrogen.txt\", \"oxygen.txt\"]\n",
    "\n",
    "for name in filenames:\n",
    "    f = open(path+\"/davids stuff/\"+name, \"r\")\n",
    "    for line in f:\n",
    "        x = list(map(float,line.split()))\n",
    "        if name==\"carbon.txt\":\n",
    "            photon_energy.append(x[0])\n",
    "            C.append(x[1])\n",
    "        elif name==\"hydrogen.txt\":\n",
    "            H.append(x[1])\n",
    "        else:\n",
    "            O.append(x[1])\n",
    "f.close()"
   ]
  },
  {
   "cell_type": "code",
   "execution_count": null,
   "metadata": {},
   "outputs": [],
   "source": [
    "import matplotlib.pyplot as plt\n",
    "def make_plot(y, el, x):\n",
    "    d = {\"Carbon\": 6, \"Hydrogen\": 1, \"Oxygen\": 8, \"Wood\": None,\"Steel\":None, \"Lead\":82}\n",
    "    plt.plot(x, y)\n",
    "    plt.grid()\n",
    "    plt.xlabel(\"Photon Energy, MeV\")\n",
    "    plt.ylabel(\"\\u03BC \\ \\u03C1\")\n",
    "    plt.yscale('log')\n",
    "    plt.xscale('log')\n",
    "    plt.title(f\"z = {d[el]}, {el}\")\n",
    "    plt.show()"
   ]
  },
  {
   "cell_type": "code",
   "execution_count": null,
   "metadata": {},
   "outputs": [],
   "source": [
    "C_prop = 0.458\n",
    "H_prop =  0.00458\n",
    "O_prop = 0.537\n",
    "\n",
    "WOOD = [C_prop*i+O_prop*j+H_prop*k for (i,j,k) in zip(C, O, H)]\n",
    "make_plot(WOOD, \"Wood\",photon_energy)"
   ]
  },
  {
   "cell_type": "code",
   "execution_count": null,
   "metadata": {},
   "outputs": [],
   "source": [
    "path = \"/Users/ninapeuker/Desktop/General_Engineering/6th semester 2023/02526 Mathematical Modeling/02526 Code/MathModellingDTU\"\n",
    "filenames = [\"carbon.txt\",\"iron.txt\"]\n",
    "Fe_energy = []\n",
    "C_energy = []\n",
    "\n",
    "Fe_val = []\n",
    "C_val = []\n",
    "\n",
    "f = open(path+\"/davids stuff/carbon.txt\",\"r\")\n",
    "for line in f:\n",
    "    x = list(map(float,line.split()))\n",
    "    C_energy.append(x[0])\n",
    "    C_val.append(x[1])\n",
    "f.close()\n",
    "\n",
    "f = open(path+\"/davids stuff/iron.txt\",\"r\")\n",
    "for line in f:\n",
    "    x = list(map(float,line.split()))\n",
    "    if x[0] in C_energy:\n",
    "        Fe_energy.append(x[0])\n",
    "        Fe_val.append(x[1])\n",
    "f.close()\n",
    "\n",
    "Fe_prop = 0.97\n",
    "C_prop = 0.03\n",
    "\n",
    "STEEL = [C_prop*i+Fe_prop*j for (i,j) in zip(C_val,Fe_val)]\n",
    "make_plot(STEEL, \"Steel\",C_energy)\n",
    "\n",
    "\n",
    "# len(Fe_energy),len(C_energy)"
   ]
  },
  {
   "cell_type": "code",
   "execution_count": null,
   "metadata": {},
   "outputs": [],
   "source": [
    "Pb_energy = []\n",
    "Pb_val = []\n",
    "\n",
    "f = open(path+\"/davids stuff/lead.txt\",\"r\")\n",
    "for line in f:\n",
    "    x = list(map(float,line.split()))\n",
    "    Pb_energy.append(x[0])\n",
    "    Pb_val.append(x[1])\n",
    "f.close()\n",
    "\n",
    "make_plot(Pb_val,\"Lead\",Pb_energy)"
   ]
  },
  {
   "cell_type": "code",
   "execution_count": null,
   "metadata": {},
   "outputs": [],
   "source": [
    "\n",
    "\n",
    "plt.plot(photon_energy, WOOD, label=\"Wood\")\n",
    "plt.plot(C_energy, STEEL, label=\"Steel\")\n",
    "plt.plot(Pb_energy, Pb_val, label=\"Lead\")\n",
    "plt.grid()\n",
    "plt.xlabel(\"Photon Energy, MeV\")\n",
    "plt.ylabel(\"\\u03BC \\ \\u03C1\")\n",
    "plt.yscale('log')\n",
    "plt.xscale('log')\n",
    "plt.legend()\n",
    "plt.title(f\"Mass attentuation coefficients\")\n",
    "plt.show()"
   ]
  },
  {
   "cell_type": "code",
   "execution_count": null,
   "metadata": {},
   "outputs": [],
   "source": [
    "import numpy as np\n",
    "wood_ip = np.interp(Pb_energy, photon_energy, WOOD)\n",
    "steel_ip = np.interp(Pb_energy, C_energy, STEEL)\n",
    "\n",
    "energy = []\n",
    "\n",
    "wood_cut = []\n",
    "steel_cut = []\n",
    "pb_cut = []\n",
    "\n",
    "for i in range(len(Pb_energy)):\n",
    "    if Pb_energy[i] >= 0.01 and Pb_energy[i] <= 0.2:\n",
    "        wood_cut.append(wood_ip[i])\n",
    "        steel_cut.append(steel_ip[i])\n",
    "        pb_cut.append(Pb_val[i])\n",
    "        energy.append(Pb_energy[i])\n",
    "    \n",
    "plt.plot(energy, wood_cut, label=\"Wood\")\n",
    "plt.plot(energy, steel_cut, label=\"Steel\")\n",
    "plt.plot(energy, pb_cut, label=\"Lead\")\n",
    "plt.grid()\n",
    "plt.xlabel(\"Photon Energy, MeV\")\n",
    "plt.ylabel(\"\\u03BC \\ \\u03C1\")\n",
    "plt.yscale('log')\n",
    "plt.xscale('log')\n",
    "plt.legend()\n",
    "plt.title(f\"Mass attentuation coefficients\")\n",
    "plt.show()"
   ]
  },
  {
   "cell_type": "code",
   "execution_count": null,
   "metadata": {},
   "outputs": [],
   "source": [
    "ws = np.abs(np.asarray(wood_cut)-np.asarray(steel_cut))\n",
    "wl = np.abs(np.asarray(wood_cut)-np.asarray(pb_cut))\n",
    "sl = np.abs(np.asarray(steel_cut)-np.asarray(pb_cut))\n",
    "\n",
    "cd = ws+wl+sl\n",
    "\n",
    "plt.plot(energy, ws, label=\"Wood - steel\")\n",
    "plt.plot(energy, wl, label=\"Wood - lead\")\n",
    "plt.plot(energy, sl, label=\"Steel - lead\")\n",
    "plt.plot(energy, cd, label=\"Cummulative distance\")\n",
    "plt.grid()\n",
    "plt.xlabel(\"Photon Energy, MeV\")\n",
    "plt.ylabel(\"\\u03BC \\ \\u03C1\")\n",
    "plt.yscale('log')\n",
    "plt.xscale('log')\n",
    "plt.legend()\n",
    "plt.title(f\"Difference in Mass attentuation coefficients\")\n",
    "plt.show()"
   ]
  },
  {
   "attachments": {},
   "cell_type": "markdown",
   "metadata": {},
   "source": [
    "The overall ideal x-ray energy is 10 keV, while the best energy to distinguish steel from lead bullets is around 35 keV\n"
   ]
  },
  {
   "cell_type": "code",
   "execution_count": null,
   "metadata": {},
   "outputs": [],
   "source": [
    "L = 0.5\n",
    "sp = 0.002\n",
    "\n",
    "N_min = L/sp\n",
    "N_max = L/(sp/4)\n",
    "\n",
    "N_min,N_max\n"
   ]
  },
  {
   "attachments": {},
   "cell_type": "markdown",
   "metadata": {},
   "source": [
    "# Part 2\n",
    "\n",
    "Configuration of the system\n",
    "1) Compute system matrix A for different parameters\n",
    "2) create test image (original x)\n",
    "3) determine b from test image\n",
    "4) add noise to b\n",
    "5) compute x again from b with added noise\n",
    "6) compare that x to the original x\n",
    "\n",
    "\n"
   ]
  },
  {
   "cell_type": "code",
   "execution_count": null,
   "metadata": {},
   "outputs": [],
   "source": [
    "import paralleltomo as pt\n",
    "import numpy as np\n",
    "# 10 keV - 35 keV energy x-rays\n",
    "\n",
    "# paralleltomo(N,theta,p,d)\n",
    "\n",
    "# Parameters for N (number of pixels): domain measurements (domain is NxN)\n",
    "# Parameters for theta -> number of angles\n",
    "# p -> in the range of N_min,N_max (number of parallel rays per angle)\n",
    "# d -> distance between first and last parallel ray\n",
    "\n",
    "ps = np.linspace(N_min,N_max,200)\n",
    "Ns = np.round(ps/np.sqrt(2))\n",
    "\n",
    "thetas = []\n",
    "\n",
    "# once every degree (one-directional)\n",
    "theta = np.matrix(np.linspace(0,179,180))\n",
    "thetas.append(theta)\n",
    "\n",
    "# four angles\n",
    "theta = np.matrix([0.0,90.0,180.0,270.0])\n",
    "thetas.append(theta)\n",
    "\n",
    "\n",
    "\n",
    "# thetas\n",
    "int(ps[0])\n",
    "int(Ns[0])\n",
    "\n",
    "# thetas.append(np.matrix(np.linspace(0,270,)))\n",
    "\n",
    "# N_min,N_max\n",
    "\n",
    "type(Ns[0])"
   ]
  },
  {
   "attachments": {},
   "cell_type": "markdown",
   "metadata": {},
   "source": [
    "Determining parameters for A - optimising N \n",
    "\n",
    "with thetas: every 1°\n",
    "and p = 250\n",
    "1) N = 10 : cond(A) = 0.72, full rank\n",
    "2) for N = 20 : cond(A) = 0.87, full rank\n",
    "3) for N = 30 : cond(A) = 0.96, full rank\n",
    "4) for N = 50 : cond(A) = 1.08, full rank\n",
    "5) for N = 75 : cond(A) = 1.28, full rank\n",
    "6) for N >= 100 : computation fairly extensive (>7m)\n"
   ]
  },
  {
   "cell_type": "code",
   "execution_count": null,
   "metadata": {},
   "outputs": [],
   "source": [
    "N = 10\n",
    "[A,theta,p,d] = pt.paralleltomo(N,thetas[0],int(ps[0]))\n",
    "np.log10(np.linalg.cond(A))\n",
    "\n",
    "# np.linalg.matrix_rank(A)"
   ]
  },
  {
   "cell_type": "code",
   "execution_count": null,
   "metadata": {},
   "outputs": [],
   "source": [
    "np.linalg.matrix_rank(A)"
   ]
  },
  {
   "cell_type": "code",
   "execution_count": null,
   "metadata": {},
   "outputs": [],
   "source": [
    "A.shape[1]"
   ]
  },
  {
   "cell_type": "code",
   "execution_count": null,
   "metadata": {},
   "outputs": [],
   "source": [
    "ps[0] * thetas[0].shape[1] >= 75**2"
   ]
  },
  {
   "attachments": {},
   "cell_type": "markdown",
   "metadata": {},
   "source": [
    "Assumption: Matrix will be full rank if it is given that:\n",
    "````\n",
    "p*len(\\theta) >= N^2\n",
    "````\n",
    "\n",
    "Since at that point, the matrix will be square\n"
   ]
  },
  {
   "attachments": {},
   "cell_type": "markdown",
   "metadata": {},
   "source": [
    "Determining parameters for A - optimising N \n",
    "\n",
    "with thetas: every 2°\n",
    "and p = 250\n",
    "1) for N < 30 : cond(A) < 1\n",
    "2) for N = 50 : cond(A) = 1.08\n",
    "3) for N = 75 : cond(A) = 1.28, full rank\n",
    "4) for N >= 100 : computation fairly extensive (>7m)"
   ]
  },
  {
   "cell_type": "code",
   "execution_count": null,
   "metadata": {},
   "outputs": [],
   "source": [
    "theta = np.matrix(np.linspace(0,179,90))"
   ]
  },
  {
   "cell_type": "code",
   "execution_count": null,
   "metadata": {},
   "outputs": [],
   "source": [
    "np.log10(np.linalg.norm(A))"
   ]
  },
  {
   "cell_type": "code",
   "execution_count": null,
   "metadata": {},
   "outputs": [],
   "source": [
    "np.linalg.inv(A)"
   ]
  },
  {
   "cell_type": "code",
   "execution_count": null,
   "metadata": {},
   "outputs": [],
   "source": [
    "np.linalg.matrix_rank(A)/A.shape[0]\n",
    "np.log10(np.linalg.cond(A))"
   ]
  },
  {
   "cell_type": "code",
   "execution_count": null,
   "metadata": {},
   "outputs": [],
   "source": [
    "N=11\n",
    "theta = np.matrix([45.0000,   67.5000,   90.0000,  112.5000,  135.0000,  157.5000,  180.0000,  202.5000,  225.0000,  247.5000,  270.0000, 292.5000,  315.0000])\n",
    "[A,theta,p,d] = pt.paralleltomo(N,theta,11)\n",
    "\n",
    "np.log10(np.linalg.cond(A))\n",
    "\n"
   ]
  },
  {
   "cell_type": "code",
   "execution_count": null,
   "metadata": {},
   "outputs": [],
   "source": [
    "\n",
    "[A,theta,p,d] = pt.paralleltomo(int(Ns[0]),theta,int(ps[0]))\n",
    "np.log10(np.linalg.cond(A))\n",
    "\n"
   ]
  },
  {
   "cell_type": "code",
   "execution_count": null,
   "metadata": {},
   "outputs": [],
   "source": []
  }
 ],
 "metadata": {
  "kernelspec": {
   "display_name": "base",
   "language": "python",
   "name": "python3"
  },
  "language_info": {
   "codemirror_mode": {
    "name": "ipython",
    "version": 3
   },
   "file_extension": ".py",
   "mimetype": "text/x-python",
   "name": "python",
   "nbconvert_exporter": "python",
   "pygments_lexer": "ipython3",
   "version": "3.9.13"
  },
  "orig_nbformat": 4,
  "vscode": {
   "interpreter": {
    "hash": "40d3a090f54c6569ab1632332b64b2c03c39dcf918b08424e98f38b5ae0af88f"
   }
  }
 },
 "nbformat": 4,
 "nbformat_minor": 2
}
